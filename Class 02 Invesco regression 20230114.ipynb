{
 "cells": [
  {
   "cell_type": "markdown",
   "id": "7fac4d3e",
   "metadata": {},
   "source": [
    "# Install modules if not already installed\n",
    "## Delete hashtag behind module that isn't installed"
   ]
  },
  {
   "cell_type": "markdown",
   "id": "ee07e7f7",
   "metadata": {},
   "source": [
    "# Change the number of rows and columns to display"
   ]
  },
  {
   "cell_type": "code",
   "execution_count": 1,
   "id": "6d474558",
   "metadata": {},
   "outputs": [],
   "source": [
    "# !pip install matplotlib\n",
    "# !pip install numpy\n",
    "# !pip install pandas\n",
    "# !pip install statsmodels\n",
    "# !pip install sklearn"
   ]
  },
  {
   "cell_type": "markdown",
   "id": "12388db6",
   "metadata": {},
   "source": [
    "# Import modules"
   ]
  },
  {
   "cell_type": "code",
   "execution_count": 2,
   "id": "9bfde693",
   "metadata": {},
   "outputs": [],
   "source": [
    "import matplotlib.pyplot as plt\n",
    "import numpy as np\n",
    "import pandas as pd\n",
    "import statsmodels.api as sm\n",
    "from sklearn.metrics import r2_score\n",
    "from pathlib import Path"
   ]
  },
  {
   "cell_type": "code",
   "execution_count": 3,
   "id": "3a5b26f1",
   "metadata": {},
   "outputs": [],
   "source": [
    "pd.set_option('display.max_rows', 200)\n",
    "pd.set_option('display.max_columns', 20)\n",
    "pd.set_option('display.max_colwidth', 50)\n",
    "pd.set_option('display.precision', 4)"
   ]
  },
  {
   "cell_type": "markdown",
   "id": "6c11ed36",
   "metadata": {},
   "source": [
    "# Define a path for import and export\n",
    "### don't forget to double the slashes\n",
    "#### I'd fix it but the solution is more annoying than the problem"
   ]
  },
  {
   "cell_type": "code",
   "execution_count": 4,
   "id": "6a50f6f9",
   "metadata": {},
   "outputs": [],
   "source": [
    "path = '/Users/admin/fin427/module2/excelSheets/'"
   ]
  },
  {
   "cell_type": "markdown",
   "id": "dead08f7",
   "metadata": {},
   "source": [
    "# Import monthly returns data"
   ]
  },
  {
   "cell_type": "code",
   "execution_count": 5,
   "id": "2d37d681",
   "metadata": {},
   "outputs": [
    {
     "name": "stdout",
     "output_type": "stream",
     "text": [
      "   DateLabel      Month  InvescoMidQual   SP400  MSCIMid  InvescoMidQualRet  \\\n",
      "0    2006.11 2006-11-30          1.0000  1.0000   1.0000                NaN   \n",
      "1    2006.12 2006-12-31          1.0252  0.9939   0.9990             0.0252   \n",
      "2    2007.01 2007-01-31          1.0531  1.0293   1.0355             0.0272   \n",
      "3    2007.02 2007-02-28          1.0631  1.0356   1.0360             0.0095   \n",
      "4    2007.03 2007-03-31          1.0763  1.0484   1.0450             0.0124   \n",
      "\n",
      "   SP400Ret  MSCIMidRet  InvescoMidQualLnRet  SP400LnRet  MSCIMidLnRet  \\\n",
      "0       NaN         NaN                  NaN         NaN           NaN   \n",
      "1   -0.0061     -0.0010               0.0249     -0.0061       -0.0010   \n",
      "2    0.0356      0.0366               0.0269      0.0350        0.0359   \n",
      "3    0.0061      0.0005               0.0094      0.0061        0.0005   \n",
      "4    0.0124      0.0087               0.0123      0.0123        0.0086   \n",
      "\n",
      "   TBillMth  InvescoMidQualExRet  SP400ExRet  MSCIMidExRet  \n",
      "0       NaN                  NaN         NaN           NaN  \n",
      "1    0.0044               0.0209     -0.0104       -0.0054  \n",
      "2    0.0039               0.0233      0.0317        0.0326  \n",
      "3    0.0042               0.0053      0.0019       -0.0037  \n",
      "4    0.0044               0.0080      0.0080        0.0043  \n",
      "   DateLabel      Month  InvescoMidQual   SP400  MSCIMid  InvescoMidQualRet  \\\n",
      "1    2006.12 2006-12-31          1.0252  0.9939   0.9990             0.0252   \n",
      "2    2007.01 2007-01-31          1.0531  1.0293   1.0355             0.0272   \n",
      "3    2007.02 2007-02-28          1.0631  1.0356   1.0360             0.0095   \n",
      "4    2007.03 2007-03-31          1.0763  1.0484   1.0450             0.0124   \n",
      "5    2007.04 2007-04-30          1.1178  1.0796   1.0834             0.0386   \n",
      "\n",
      "   SP400Ret  MSCIMidRet  InvescoMidQualLnRet  SP400LnRet  MSCIMidLnRet  \\\n",
      "1   -0.0061     -0.0010               0.0249     -0.0061       -0.0010   \n",
      "2    0.0356      0.0366               0.0269      0.0350        0.0359   \n",
      "3    0.0061      0.0005               0.0094      0.0061        0.0005   \n",
      "4    0.0124      0.0087               0.0123      0.0123        0.0086   \n",
      "5    0.0297      0.0368               0.0378      0.0293        0.0361   \n",
      "\n",
      "   TBillMth  InvescoMidQualExRet  SP400ExRet  MSCIMidExRet  \n",
      "1    0.0044               0.0209     -0.0104       -0.0054  \n",
      "2    0.0039               0.0233      0.0317        0.0326  \n",
      "3    0.0042               0.0053      0.0019       -0.0037  \n",
      "4    0.0044               0.0080      0.0080        0.0043  \n",
      "5    0.0042               0.0343      0.0255        0.0325  \n"
     ]
    }
   ],
   "source": [
    "df_returns = pd.read_excel(path + 'Excel02 Invesco MidCap Quality 20230104.xlsx', \n",
    "sheet_name='MthData')\n",
    "print(df_returns.head())\n",
    "df_returns = df_returns.dropna()\n",
    "print(df_returns.head())"
   ]
  },
  {
   "cell_type": "markdown",
   "id": "222dad95",
   "metadata": {},
   "source": [
    "# Regression of Invesco excess returns on S&P 400 excess returns"
   ]
  },
  {
   "cell_type": "code",
   "execution_count": 6,
   "id": "e2feb538",
   "metadata": {},
   "outputs": [
    {
     "name": "stdout",
     "output_type": "stream",
     "text": [
      "                             OLS Regression Results                            \n",
      "===============================================================================\n",
      "Dep. Variable:     InvescoMidQualExRet   R-squared:                       0.940\n",
      "Model:                             OLS   Adj. R-squared:                  0.940\n",
      "Method:                  Least Squares   F-statistic:                     2995.\n",
      "Date:                 Wed, 18 Jan 2023   Prob (F-statistic):          1.14e-118\n",
      "Time:                         15:22:34   Log-Likelihood:                 570.21\n",
      "No. Observations:                  193   AIC:                            -1136.\n",
      "Df Residuals:                      191   BIC:                            -1130.\n",
      "Df Model:                            1                                         \n",
      "Covariance Type:             nonrobust                                         \n",
      "==============================================================================\n",
      "                 coef    std err          t      P>|t|      [0.025      0.975]\n",
      "------------------------------------------------------------------------------\n",
      "const          0.0009      0.001      0.998      0.320      -0.001       0.003\n",
      "SP400ExRet     0.9192      0.017     54.724      0.000       0.886       0.952\n",
      "==============================================================================\n",
      "Omnibus:                       18.878   Durbin-Watson:                   1.976\n",
      "Prob(Omnibus):                  0.000   Jarque-Bera (JB):               62.917\n",
      "Skew:                           0.216   Prob(JB):                     2.18e-14\n",
      "Kurtosis:                       5.763   Cond. No.                         18.4\n",
      "==============================================================================\n",
      "\n",
      "Notes:\n",
      "[1] Standard Errors assume that the covariance matrix of the errors is correctly specified.\n",
      "1     -0.0087\n",
      "2      0.0300\n",
      "3      0.0027\n",
      "4      0.0083\n",
      "5      0.0243\n",
      "6      0.0421\n",
      "7     -0.0236\n",
      "8     -0.0425\n",
      "9      0.0042\n",
      "10     0.0212\n",
      "11     0.0219\n",
      "12    -0.0497\n",
      "13    -0.0046\n",
      "14    -0.0584\n",
      "15    -0.0187\n",
      "16    -0.0112\n",
      "17     0.0700\n",
      "18     0.0472\n",
      "19    -0.0662\n",
      "20    -0.0182\n",
      "21     0.0142\n",
      "22    -0.0998\n",
      "23    -0.2004\n",
      "24    -0.0864\n",
      "25     0.0433\n",
      "26    -0.0667\n",
      "27    -0.0899\n",
      "28     0.0817\n",
      "29     0.1364\n",
      "30     0.0244\n",
      "31     0.0050\n",
      "32     0.0801\n",
      "33     0.0396\n",
      "34     0.0521\n",
      "35    -0.0415\n",
      "36     0.0366\n",
      "37     0.0571\n",
      "38    -0.0293\n",
      "39     0.0474\n",
      "40     0.0650\n",
      "41     0.0394\n",
      "42    -0.0665\n",
      "43    -0.0607\n",
      "44     0.0635\n",
      "45    -0.0459\n",
      "46     0.1033\n",
      "47     0.0318\n",
      "48     0.0268\n",
      "49     0.0597\n",
      "50     0.0186\n",
      "51     0.0424\n",
      "52     0.0222\n",
      "53     0.0252\n",
      "54    -0.0127\n",
      "55    -0.0190\n",
      "56    -0.0322\n",
      "57    -0.0659\n",
      "58    -0.0976\n",
      "59     0.1264\n",
      "60    -0.0034\n",
      "61    -0.0039\n",
      "62     0.0609\n",
      "63     0.0410\n",
      "64     0.0168\n",
      "65    -0.0019\n",
      "66    -0.0600\n",
      "67     0.0168\n",
      "68    -0.0003\n",
      "69     0.0312\n",
      "70     0.0174\n",
      "71    -0.0071\n",
      "72     0.0193\n",
      "73     0.0195\n",
      "74     0.0666\n",
      "75     0.0087\n",
      "76     0.0434\n",
      "77     0.0059\n",
      "78     0.0202\n",
      "79    -0.0173\n",
      "80     0.0572\n",
      "81    -0.0349\n",
      "82     0.0475\n",
      "83     0.0344\n",
      "84     0.0116\n",
      "85     0.0279\n",
      "86    -0.0193\n",
      "87     0.0445\n",
      "88     0.0030\n",
      "89    -0.0141\n",
      "90     0.0158\n",
      "91     0.0375\n",
      "92    -0.0390\n",
      "93     0.0461\n",
      "94    -0.0421\n",
      "95     0.0329\n",
      "96     0.0164\n",
      "97     0.0071\n",
      "98    -0.0101\n",
      "99     0.0467\n",
      "100    0.0116\n",
      "101   -0.0135\n",
      "102    0.0159\n",
      "103   -0.0127\n",
      "104    0.0013\n",
      "105   -0.0518\n",
      "106   -0.0301\n",
      "107    0.0519\n",
      "108    0.0117\n",
      "109   -0.0389\n",
      "110   -0.0523\n",
      "111    0.0122\n",
      "112    0.0772\n",
      "113    0.0113\n",
      "114    0.0205\n",
      "115    0.0029\n",
      "116    0.0394\n",
      "117    0.0039\n",
      "118   -0.0066\n",
      "119   -0.0246\n",
      "120    0.0727\n",
      "121    0.0193\n",
      "122    0.0154\n",
      "123    0.0235\n",
      "124   -0.0046\n",
      "125    0.0074\n",
      "126   -0.0055\n",
      "127    0.0136\n",
      "128    0.0077\n",
      "129   -0.0154\n",
      "130    0.0347\n",
      "131    0.0202\n",
      "132    0.0323\n",
      "133    0.0007\n",
      "134    0.0258\n",
      "135   -0.0422\n",
      "136    0.0068\n",
      "137   -0.0034\n",
      "138    0.0360\n",
      "139    0.0021\n",
      "140    0.0150\n",
      "141    0.0273\n",
      "142   -0.0119\n",
      "143   -0.0892\n",
      "144    0.0262\n",
      "145   -0.1063\n",
      "146    0.0943\n",
      "147    0.0366\n",
      "148   -0.0077\n",
      "149    0.0352\n",
      "150   -0.0757\n",
      "151    0.0677\n",
      "152    0.0093\n",
      "153   -0.0406\n",
      "154    0.0258\n",
      "155    0.0089\n",
      "156    0.0255\n",
      "157    0.0239\n",
      "158   -0.0251\n",
      "159   -0.0887\n",
      "160   -0.1880\n",
      "161    0.1301\n",
      "162    0.0665\n",
      "163    0.0109\n",
      "164    0.0424\n",
      "165    0.0317\n",
      "166   -0.0303\n",
      "167    0.0201\n",
      "168    0.1306\n",
      "169    0.0594\n",
      "170    0.0142\n",
      "171    0.0622\n",
      "172    0.0425\n",
      "173    0.0417\n",
      "174    0.0017\n",
      "175   -0.0096\n",
      "176    0.0035\n",
      "177    0.0177\n",
      "178   -0.0367\n",
      "179    0.0543\n",
      "180   -0.0272\n",
      "181    0.0461\n",
      "182   -0.0659\n",
      "183    0.0100\n",
      "184    0.0120\n",
      "185   -0.0652\n",
      "186    0.0060\n",
      "187   -0.0895\n",
      "188    0.0989\n",
      "189   -0.0306\n",
      "190   -0.0868\n",
      "191    0.0946\n",
      "192    0.0529\n",
      "193   -0.0547\n",
      "dtype: float64\n"
     ]
    }
   ],
   "source": [
    "y = df_returns['InvescoMidQualExRet']\n",
    "x = df_returns[['SP400ExRet']]\n",
    "x = sm.add_constant(x)\n",
    "model = sm.OLS(y, x).fit()\n",
    "predictions = model.predict(x)\n",
    "print_model = model.summary()\n",
    "print(print_model)\n",
    "print(predictions)"
   ]
  },
  {
   "cell_type": "markdown",
   "id": "b09ebcb0",
   "metadata": {},
   "source": [
    "# Regression using polyfit"
   ]
  },
  {
   "cell_type": "code",
   "execution_count": 7,
   "id": "5ea5a0d9",
   "metadata": {},
   "outputs": [
    {
     "name": "stdout",
     "output_type": "stream",
     "text": [
      "Slope: 0.919\n",
      "Coefficient: 0.000917\n"
     ]
    }
   ],
   "source": [
    "x1 = df_returns.SP400ExRet\n",
    "y1 = df_returns.InvescoMidQualExRet\n",
    "m, b = np.polyfit(x1, y1, 1)\n",
    "print(\"Slope: \" + str(round(m, 3)))\n",
    "print(\"Coefficient: \" + str(round(b, 6)))"
   ]
  },
  {
   "cell_type": "markdown",
   "id": "6a349ad3",
   "metadata": {},
   "source": [
    "# Generate and save plot"
   ]
  },
  {
   "cell_type": "code",
   "execution_count": 11,
   "id": "be619035",
   "metadata": {},
   "outputs": [
    {
     "data": {
      "image/png": "[encoded data removed]",
      "text/plain": [
       "<Figure size 640x480 with 1 Axes>"
      ]
     },
     "metadata": {},
     "output_type": "display_data"
    }
   ],
   "source": [
    "plt.plot(x1, y1, 'o')\n",
    "plt.plot(x, m * x + b, 'red', label='Invesco excess returns = {:.4f} + {:.2f} x S&P \\\n",
    "400 MidCap Excess returns'\n",
    "         .format(b, m))\n",
    "plt.legend(loc='lower right')\n",
    "plt.xlabel('S&P MidCap 400 excess returns')\n",
    "plt.ylabel('Invesco excess returns')\n",
    "plt.xlim([-0.25, 0.25])\n",
    "plt.ylim([-0.25, 0.25])\n",
    "plt.savefig(path + 'Invesco scatter vs S&P 400.jpg')\n",
    "plt.show()"
   ]
  },
  {
   "cell_type": "code",
   "execution_count": null,
   "id": "921c6354",
   "metadata": {},
   "outputs": [],
   "source": []
  }
 ],
 "metadata": {
  "kernelspec": {
   "display_name": "Python 3 (ipykernel)",
   "language": "python",
   "name": "python3"
  },
  "language_info": {
   "codemirror_mode": {
    "name": "ipython",
    "version": 3
   },
   "file_extension": ".py",
   "mimetype": "text/x-python",
   "name": "python",
   "nbconvert_exporter": "python",
   "pygments_lexer": "ipython3",
   "version": "3.9.13"
  }
 },
 "nbformat": 4,
 "nbformat_minor": 5
}
