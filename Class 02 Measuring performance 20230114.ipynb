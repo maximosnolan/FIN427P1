{
 "cells": [
  {
   "cell_type": "markdown",
   "id": "e29acf79",
   "metadata": {},
   "source": [
    "# Install modules if they aren't already installed\n",
    "### Delete hashtag before ones you don't have"
   ]
  },
  {
   "cell_type": "code",
   "execution_count": 1,
   "id": "a7793e94",
   "metadata": {},
   "outputs": [],
   "source": [
    "# !pip install matplotlib\n",
    "# !pip install numpy\n",
    "# !pip install pandas\n",
    "# !pip install statsmodels\n",
    "# !pip install sklearn"
   ]
  },
  {
   "cell_type": "markdown",
   "id": "344f67c8",
   "metadata": {},
   "source": [
    "# Import libraries"
   ]
  },
  {
   "cell_type": "code",
   "execution_count": 2,
   "id": "202d284c",
   "metadata": {},
   "outputs": [],
   "source": [
    "import matplotlib.pyplot as plt\n",
    "import numpy as np\n",
    "import pandas as pd\n",
    "import statsmodels.api as sm\n",
    "from sklearn.metrics import r2_score"
   ]
  },
  {
   "cell_type": "markdown",
   "id": "6992aa0e",
   "metadata": {},
   "source": [
    "# Define a path for import and export\n",
    "## Don't forget to double slash"
   ]
  },
  {
   "cell_type": "code",
   "execution_count": 3,
   "id": "0c4a7da1",
   "metadata": {},
   "outputs": [],
   "source": [
    "path = '/Users/admin/fin427/module2/excelSheets/'"
   ]
  },
  {
   "cell_type": "markdown",
   "id": "00248bb9",
   "metadata": {},
   "source": [
    "# Import monthly returns for individual S&P 400 stocks"
   ]
  },
  {
   "cell_type": "code",
   "execution_count": 4,
   "id": "15529cf5",
   "metadata": {},
   "outputs": [
    {
     "name": "stdout",
     "output_type": "stream",
     "text": [
      "   PERMNO       DATE     CUSIP       COMNAM TICKER  PERMCO   VOL       RET  \\\n",
      "0   10032 1994-12-30  72913210  PLEXUS CORP   PLXS    7980  4506 -0.105263   \n",
      "1   10032 1995-01-31  72913210  PLEXUS CORP   PLXS    7980  3974  0.470588   \n",
      "2   10032 1995-02-28  72913210  PLEXUS CORP   PLXS    7980  1673 -0.020000   \n",
      "3   10032 1995-03-31  72913210  PLEXUS CORP   PLXS    7980  2254  0.020408   \n",
      "4   10032 1995-04-28  72913210  PLEXUS CORP   PLXS    7980  2129 -0.040000   \n",
      "\n",
      "   SHROUT     MthEnd  \n",
      "0    6460 1994-12-31  \n",
      "1    6460 1995-01-31  \n",
      "2    6460 1995-02-28  \n",
      "3    6460 1995-03-31  \n",
      "4    6460 1995-04-30  \n",
      "Index(['PERMNO', 'DATE', 'CUSIP', 'COMNAM', 'TICKER', 'PERMCO', 'VOL', 'RET',\n",
      "       'SHROUT', 'MthEnd'],\n",
      "      dtype='object')\n"
     ]
    }
   ],
   "source": [
    "df_stockret = pd.read_excel(path + 'Excel02 S&P 400 historical returns 20221231.xlsx', sheet_name='mth')\n",
    "print(df_stockret.head())\n",
    "print(df_stockret.columns)                            "
   ]
  },
  {
   "cell_type": "markdown",
   "id": "7762a085",
   "metadata": {},
   "source": [
    "# Import monthly returns on the S&P 400 index"
   ]
  },
  {
   "cell_type": "code",
   "execution_count": 5,
   "id": "145ab4da",
   "metadata": {},
   "outputs": [
    {
     "name": "stdout",
     "output_type": "stream",
     "text": [
      "       Month  RetInd     MthEnd    MthRet\n",
      "0 1994-12-31  182.32 1994-12-31       NaN\n",
      "1 1995-01-31  184.23 1995-01-31  0.010476\n",
      "2 1995-02-28  193.88 1995-02-28  0.052380\n",
      "3 1995-03-31  197.25 1995-03-31  0.017382\n",
      "4 1995-04-28  201.21 1995-04-30  0.020076\n",
      "Index(['Month', 'RetInd', 'MthEnd', 'MthRet'], dtype='object')\n"
     ]
    }
   ],
   "source": [
    "df_indexret = pd.read_excel(path + 'Excel02 S&P 400 Returns 20221230.xlsx', sheet_name='Mth')\n",
    "df_indexret['MthRet'] = df_indexret['RetInd'].pct_change()\n",
    "print(df_indexret.head())\n",
    "print(df_indexret.columns)"
   ]
  },
  {
   "cell_type": "markdown",
   "id": "57d78c80",
   "metadata": {},
   "source": [
    "# Import monthly Fama and French factors"
   ]
  },
  {
   "cell_type": "code",
   "execution_count": 6,
   "id": "d7a248a5",
   "metadata": {},
   "outputs": [
    {
     "name": "stdout",
     "output_type": "stream",
     "text": [
      "      MthEnd    RmRf     SMB     HML      Rf\n",
      "0 1926-07-31  0.0296 -0.0256 -0.0243  0.0022\n",
      "1 1926-08-31  0.0264 -0.0117  0.0382  0.0025\n",
      "2 1926-09-30  0.0036 -0.0140  0.0013  0.0023\n",
      "3 1926-10-31 -0.0324 -0.0009  0.0070  0.0032\n",
      "4 1926-11-30  0.0253 -0.0010 -0.0051  0.0031\n",
      "Index(['MthEnd', 'RmRf', 'SMB', 'HML', 'Rf'], dtype='object')\n"
     ]
    }
   ],
   "source": [
    "df_ff = pd.read_excel(path + 'Excel02 Fama and French 20230114.xlsx', sheet_name='Mth3')\n",
    "print(df_ff.head())\n",
    "print(df_ff.columns)"
   ]
  },
  {
   "cell_type": "markdown",
   "id": "b6a9240e",
   "metadata": {},
   "source": [
    "# Combine stock return data with index return data and Fama-French data"
   ]
  },
  {
   "cell_type": "code",
   "execution_count": 7,
   "id": "91fd5673",
   "metadata": {},
   "outputs": [],
   "source": [
    "df_combret1 = pd.merge(df_stockret, df_indexret, left_on='MthEnd', right_on='MthEnd')\n",
    "df_combret2 = pd.merge(df_combret1, df_ff, left_on='MthEnd', right_on='MthEnd')\n",
    "df_combret2 = df_combret2.dropna()"
   ]
  },
  {
   "cell_type": "markdown",
   "id": "50e1ab17",
   "metadata": {},
   "source": [
    "# Compute excess returns"
   ]
  },
  {
   "cell_type": "code",
   "execution_count": 8,
   "id": "083a4073",
   "metadata": {},
   "outputs": [],
   "source": [
    "df_combret2['StockretRf'] = df_combret2['RET'] - df_combret2['Rf']\n",
    "df_combret2['IndexretRf'] = df_combret2['MthRet'] - df_combret2['Rf']"
   ]
  },
  {
   "cell_type": "markdown",
   "id": "99bbb543",
   "metadata": {},
   "source": [
    "# Remove a company with only two observations"
   ]
  },
  {
   "cell_type": "code",
   "execution_count": 9,
   "id": "837b8e7b",
   "metadata": {},
   "outputs": [
    {
     "name": "stdout",
     "output_type": "stream",
     "text": [
      "     PERMNO       DATE     CUSIP                       COMNAM TICKER  PERMCO  \\\n",
      "909   10032 1995-01-31  72913210                  PLEXUS CORP   PLXS    7980   \n",
      "910   10108 1995-01-31  86736310     SUNGARD DATA SYSTEMS INC   SNDT    8049   \n",
      "911   10137 1995-01-31  01736110  ALLEGHENY POWER SYSTEMS INC    AYP   20045   \n",
      "912   10138 1995-01-31  74144T10       T ROWE PRICE ASSOC INC   TROW    8087   \n",
      "913   10143 1995-01-31  67104010         ONCOGENE SCIENCE INC   ONCS    8092   \n",
      "\n",
      "       VOL       RET  SHROUT     MthEnd      Month  RetInd    MthRet   RmRf  \\\n",
      "909   3974  0.470588    6460 1995-01-31 1995-01-31  184.23  0.010476  0.018   \n",
      "910  15968 -0.071429   18767 1995-01-31 1995-01-31  184.23  0.010476  0.018   \n",
      "911  26987  0.103448  118894 1995-01-31 1995-01-31  184.23  0.010476  0.018   \n",
      "912  19680 -0.083333   28569 1995-01-31 1995-01-31  184.23  0.010476  0.018   \n",
      "913   6027  0.119048   16343 1995-01-31 1995-01-31  184.23  0.010476  0.018   \n",
      "\n",
      "       SMB     HML      Rf  StockretRf  IndexretRf  \n",
      "909 -0.035  0.0257  0.0042    0.466388    0.006276  \n",
      "910 -0.035  0.0257  0.0042   -0.075629    0.006276  \n",
      "911 -0.035  0.0257  0.0042    0.099248    0.006276  \n",
      "912 -0.035  0.0257  0.0042   -0.087533    0.006276  \n",
      "913 -0.035  0.0257  0.0042    0.114848    0.006276  \n",
      "Index(['PERMNO', 'DATE', 'CUSIP', 'COMNAM', 'TICKER', 'PERMCO', 'VOL', 'RET',\n",
      "       'SHROUT', 'MthEnd', 'Month', 'RetInd', 'MthRet', 'RmRf', 'SMB', 'HML',\n",
      "       'Rf', 'StockretRf', 'IndexretRf'],\n",
      "      dtype='object')\n"
     ]
    }
   ],
   "source": [
    "df_combret3 = df_combret2.loc[df_combret2['CUSIP'] != '55919410']\n",
    "print(df_combret3.head())\n",
    "print(df_combret3.columns)"
   ]
  },
  {
   "cell_type": "markdown",
   "id": "70100923",
   "metadata": {},
   "source": [
    "# Example regression for one company - NVIDIA\n",
    "# Selecting rows based on condition"
   ]
  },
  {
   "cell_type": "code",
   "execution_count": 10,
   "id": "65398344",
   "metadata": {},
   "outputs": [
    {
     "name": "stdout",
     "output_type": "stream",
     "text": [
      "       PERMNO       DATE     CUSIP       COMNAM TICKER  PERMCO    VOL  \\\n",
      "50418   86580 1999-02-26  67066G10  NVIDIA CORP   NVDA   16382  65851   \n",
      "51443   86580 1999-03-31  67066G10  NVIDIA CORP   NVDA   16382  42386   \n",
      "52472   86580 1999-04-30  67066G10  NVIDIA CORP   NVDA   16382  37338   \n",
      "53500   86580 1999-05-28  67066G10  NVIDIA CORP   NVDA   16382  51938   \n",
      "54530   86580 1999-06-30  67066G10  NVIDIA CORP   NVDA   16382  50578   \n",
      "\n",
      "            RET  SHROUT     MthEnd      Month  RetInd    MthRet    RmRf  \\\n",
      "50418  0.154605   28596 1999-02-28 1999-02-26  408.30 -0.052360 -0.0408   \n",
      "51443 -0.037037   28596 1999-03-31 1999-03-31  419.71  0.027945  0.0345   \n",
      "52472 -0.136095   29309 1999-04-30 1999-04-30  452.81  0.078864  0.0433   \n",
      "53500 -0.065068   29309 1999-05-31 1999-05-31  454.77  0.004329 -0.0246   \n",
      "54530  0.120879   29309 1999-06-30 1999-06-30  479.12  0.053544  0.0477   \n",
      "\n",
      "          SMB     HML      Rf  StockretRf  IndexretRf  \n",
      "50418 -0.0609  0.0192  0.0035    0.151105   -0.055860  \n",
      "51443 -0.0379 -0.0274  0.0043   -0.041337    0.023645  \n",
      "52472  0.0391  0.0246  0.0037   -0.139795    0.075164  \n",
      "53500  0.0334  0.0235  0.0034   -0.068468    0.000929  \n",
      "54530  0.0309 -0.0319  0.0040    0.116879    0.049544  \n",
      "Index(['PERMNO', 'DATE', 'CUSIP', 'COMNAM', 'TICKER', 'PERMCO', 'VOL', 'RET',\n",
      "       'SHROUT', 'MthEnd', 'Month', 'RetInd', 'MthRet', 'RmRf', 'SMB', 'HML',\n",
      "       'Rf', 'StockretRf', 'IndexretRf'],\n",
      "      dtype='object')\n"
     ]
    }
   ],
   "source": [
    "TestCUSIPS2 = ['67066G10']\n",
    "df_combret4 = df_combret3[df_combret3['CUSIP'].isin(TestCUSIPS2)]\n",
    "print(df_combret4.head())\n",
    "print(df_combret4.columns)"
   ]
  },
  {
   "cell_type": "code",
   "execution_count": 11,
   "id": "e9ce450c",
   "metadata": {},
   "outputs": [
    {
     "name": "stdout",
     "output_type": "stream",
     "text": [
      "                            OLS Regression Results                            \n",
      "==============================================================================\n",
      "Dep. Variable:             StockretRf   R-squared:                       0.218\n",
      "Model:                            OLS   Adj. R-squared:                  0.215\n",
      "Method:                 Least Squares   F-statistic:                     76.92\n",
      "Date:                Wed, 18 Jan 2023   Prob (F-statistic):           1.87e-16\n",
      "Time:                        15:33:38   Log-Likelihood:                 120.30\n",
      "No. Observations:                 278   AIC:                            -236.6\n",
      "Df Residuals:                     276   BIC:                            -229.3\n",
      "Df Model:                           1                                         \n",
      "Covariance Type:            nonrobust                                         \n",
      "==============================================================================\n",
      "                 coef    std err          t      P>|t|      [0.025      0.975]\n",
      "------------------------------------------------------------------------------\n",
      "const          0.0242      0.010      2.523      0.012       0.005       0.043\n",
      "IndexretRf     1.6382      0.187      8.770      0.000       1.270       2.006\n",
      "==============================================================================\n",
      "Omnibus:                       56.403   Durbin-Watson:                   1.887\n",
      "Prob(Omnibus):                  0.000   Jarque-Bera (JB):              123.177\n",
      "Skew:                           0.996   Prob(JB):                     1.79e-27\n",
      "Kurtosis:                       5.581   Cond. No.                         19.8\n",
      "==============================================================================\n",
      "\n",
      "Notes:\n",
      "[1] Standard Errors assume that the covariance matrix of the errors is correctly specified.\n",
      "50418    -0.067354\n",
      "51443     0.062888\n",
      "52472     0.147284\n",
      "53500     0.025675\n",
      "54530     0.105314\n",
      "            ...   \n",
      "308327   -0.023953\n",
      "309093    0.107180\n",
      "309860   -0.093950\n",
      "310624    0.042400\n",
      "311386    0.046674\n",
      "Length: 278, dtype: float64\n"
     ]
    }
   ],
   "source": [
    "y = df_combret4['StockretRf']\n",
    "x = df_combret4[['IndexretRf']]\n",
    "x = sm.add_constant(x)\n",
    "model = sm.OLS(y, x).fit()\n",
    "predictions = model.predict(x)\n",
    "print_model = model.summary()\n",
    "print(print_model)\n",
    "print(predictions)"
   ]
  },
  {
   "cell_type": "markdown",
   "id": "ccecb8ce",
   "metadata": {},
   "source": [
    "# Regression using polyfit"
   ]
  },
  {
   "cell_type": "code",
   "execution_count": 12,
   "id": "c8a2feb3",
   "metadata": {},
   "outputs": [
    {
     "name": "stdout",
     "output_type": "stream",
     "text": [
      "Slope: 1.638\n",
      "Coefficient: 0.024154\n"
     ]
    }
   ],
   "source": [
    "x1 = df_combret4.IndexretRf\n",
    "y1 = df_combret4.StockretRf\n",
    "m, b = np.polyfit(x1, y1, 1)\n",
    "print(\"Slope: \" + str(round(m, 3)))\n",
    "print(\"Coefficient: \" + str(round(b, 6)))"
   ]
  },
  {
   "cell_type": "code",
   "execution_count": 13,
   "id": "8e75a354",
   "metadata": {},
   "outputs": [
    {
     "data": {
      "image/png": "[encoded data removed]",
      "text/plain": [
       "<Figure size 640x480 with 1 Axes>"
      ]
     },
     "metadata": {},
     "output_type": "display_data"
    }
   ],
   "source": [
    "plt.plot(x1, y1, 'o')\n",
    "plt.plot(x, m * x + b, 'red', label='NVIDIA excess returns = {:.4f} + {:.2f} x S&P 400 MidCap excess returns'.format(b, m))\n",
    "plt.legend(loc='upper left', fontsize=6)\n",
    "plt.xlabel('S&P MidCap 400 returns')\n",
    "plt.ylabel('NVIDIA excess returns')\n",
    "plt.xlim([-0.25, 0.25])\n",
    "plt.ylim([-0.40, 0.90])\n",
    "plt.savefig(path + 'Chart02 NVIDIA beta.jpg')\n",
    "plt.show()"
   ]
  },
  {
   "cell_type": "markdown",
   "id": "3e228754",
   "metadata": {},
   "source": [
    "# Example regression for 3 companies - NVIDIA, Qualcomm and AMD"
   ]
  },
  {
   "cell_type": "code",
   "execution_count": 14,
   "id": "da10dbc4",
   "metadata": {},
   "outputs": [],
   "source": [
    "TestCUSIPS3 = ['67066G10', '74752510', '00790310']\n",
    "df_combret5 = df_combret3[df_combret3['CUSIP'].isin(TestCUSIPS3)]"
   ]
  },
  {
   "cell_type": "code",
   "execution_count": 15,
   "id": "e1f3b244",
   "metadata": {},
   "outputs": [],
   "source": [
    "def regress(df_combret5, yvar, xvars):\n",
    "    y3 = df_combret5['StockretRf']\n",
    "    x3 = df_combret5['IndexretRf']\n",
    "    x3 = sm.add_constant(x3)\n",
    "    model3 = sm.OLS(y3, x3).fit()\n",
    "    predictions3 = model3.predict(x3)\n",
    "    r2 = r2_score(y3, predictions3)\n",
    "    return model3.params, r2"
   ]
  },
  {
   "cell_type": "code",
   "execution_count": 16,
   "id": "91a3fe11",
   "metadata": {},
   "outputs": [
    {
     "name": "stdout",
     "output_type": "stream",
     "text": [
      "CUSIP\n",
      "00790310    ([0.004733895568024394, 1.843857118853719], 0....\n",
      "67066G10    ([0.024153952290012024, 1.6381553411165466], 0...\n",
      "74752510    ([0.013231097987915653, 1.0195272931505581], 0...\n",
      "dtype: object\n"
     ]
    }
   ],
   "source": [
    "output3 = df_combret5.groupby('CUSIP').apply(regress, yvar='y3', xvars=['x3'])\n",
    "print(output3)"
   ]
  },
  {
   "cell_type": "markdown",
   "id": "aa87484b",
   "metadata": {},
   "source": [
    "# Running the regression on all companies"
   ]
  },
  {
   "cell_type": "code",
   "execution_count": 17,
   "id": "8646389b",
   "metadata": {},
   "outputs": [],
   "source": [
    "def regressall(df_combret3, yvar, xvars):\n",
    "    yall = df_combret3['StockretRf']\n",
    "    xall = df_combret3['IndexretRf']\n",
    "    xall = sm.add_constant(xall)\n",
    "    modelall = sm.OLS(yall, xall).fit()\n",
    "    predictionsall = modelall.predict(xall)\n",
    "    r2all = r2_score(yall, predictionsall)\n",
    "    return modelall.params"
   ]
  },
  {
   "cell_type": "code",
   "execution_count": 18,
   "id": "c9a50a09",
   "metadata": {},
   "outputs": [
    {
     "name": "stdout",
     "output_type": "stream",
     "text": [
      "             const  IndexretRf\n",
      "CUSIP                         \n",
      "00088630 -0.005014    1.866020\n",
      "00105510  0.004649    0.942049\n",
      "00108410  0.001261    1.202272\n",
      "00120410  0.005865    0.335126\n",
      "00130H10  0.001786    1.342864\n",
      "...            ...         ...\n",
      "G8721010 -0.000574    1.177051\n",
      "G9402V10 -0.050874    2.225614\n",
      "G9782210  0.001653    0.530310\n",
      "H8817H10 -0.005401    1.655519\n",
      "N2271710  0.003940    1.443821\n",
      "\n",
      "[1512 rows x 2 columns]\n"
     ]
    }
   ],
   "source": [
    "output = df_combret3.groupby('CUSIP').apply(regressall, yvar='yall', xvars=['xall'])\n",
    "print(output)"
   ]
  },
  {
   "cell_type": "markdown",
   "id": "3edb6921",
   "metadata": {},
   "source": [
    "# Regression to show the inverse relationship between estimates of alpha and index exposure"
   ]
  },
  {
   "cell_type": "code",
   "execution_count": 19,
   "id": "63a689ea",
   "metadata": {},
   "outputs": [
    {
     "name": "stdout",
     "output_type": "stream",
     "text": [
      "Slope: -0.013\n",
      "Coefficient: 0.017541\n"
     ]
    }
   ],
   "source": [
    "x4 = output.IndexretRf\n",
    "y4 = output.const\n",
    "m, b = np.polyfit(x4, y4, 1)\n",
    "print(\"Slope: \" + str(round(m, 3)))\n",
    "print(\"Coefficient: \" + str(round(b, 6)))"
   ]
  },
  {
   "cell_type": "code",
   "execution_count": 20,
   "id": "dfc35e4c",
   "metadata": {},
   "outputs": [
    {
     "data": {
      "image/png": "[encoded data removed]",
      "text/plain": [
       "<Figure size 640x480 with 1 Axes>"
      ]
     },
     "metadata": {},
     "output_type": "display_data"
    }
   ],
   "source": [
    "plt.plot(x4, y4, 'o')\n",
    "plt.plot(x4, m * x4 + b, 'red', label='Alpha = {:.4f} + {:.4f} x slope on midcap excess returns'.format(b, m))\n",
    "plt.legend(loc='upper left', fontsize=10)\n",
    "plt.xlabel('Slope on midcap excess returns')\n",
    "plt.ylabel('Alpha')\n",
    "plt.xlim([-8.5, 8.5])\n",
    "plt.ylim([-0.35, 0.35])\n",
    "plt.savefig(path + 'Chart02 Alpha and beta.jpg')\n",
    "plt.show()"
   ]
  },
  {
   "cell_type": "markdown",
   "id": "34f33877",
   "metadata": {},
   "source": [
    "# Export results to Excel"
   ]
  },
  {
   "cell_type": "code",
   "execution_count": 21,
   "id": "fdeb012e",
   "metadata": {},
   "outputs": [],
   "source": [
    "with pd.ExcelWriter(path + 'Excel02 Beta estimates 20230114.xlsx') as writer:\n",
    "    output3.to_excel(writer, sheet_name='Coefficients 3')\n",
    "    output.to_excel(writer, sheet_name='Coefficients All')"
   ]
  },
  {
   "cell_type": "code",
   "execution_count": null,
   "id": "70d0c6ef",
   "metadata": {},
   "outputs": [],
   "source": []
  }
 ],
 "metadata": {
  "kernelspec": {
   "display_name": "Python 3 (ipykernel)",
   "language": "python",
   "name": "python3"
  },
  "language_info": {
   "codemirror_mode": {
    "name": "ipython",
    "version": 3
   },
   "file_extension": ".py",
   "mimetype": "text/x-python",
   "name": "python",
   "nbconvert_exporter": "python",
   "pygments_lexer": "ipython3",
   "version": "3.9.13"
  }
 },
 "nbformat": 4,
 "nbformat_minor": 5
}
