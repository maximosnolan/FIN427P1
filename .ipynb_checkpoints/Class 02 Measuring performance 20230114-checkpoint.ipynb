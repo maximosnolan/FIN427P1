{
 "cells": [
  {
   "cell_type": "markdown",
   "id": "e29acf79",
   "metadata": {},
   "source": [
    "# Install modules if they aren't already installed\n",
    "### Delete hashtag before ones you don't have"
   ]
  },
  {
   "cell_type": "code",
   "execution_count": 1,
   "id": "a7793e94",
   "metadata": {},
   "outputs": [],
   "source": [
    "# !pip install matplotlib\n",
    "# !pip install numpy\n",
    "# !pip install pandas\n",
    "# !pip install statsmodels\n",
    "# !pip install sklearn"
   ]
  },
  {
   "cell_type": "markdown",
   "id": "344f67c8",
   "metadata": {},
   "source": [
    "# Import libraries"
   ]
  },
  {
   "cell_type": "code",
   "execution_count": 2,
   "id": "202d284c",
   "metadata": {},
   "outputs": [],
   "source": [
    "import matplotlib.pyplot as plt\n",
    "import numpy as np\n",
    "import pandas as pd\n",
    "import statsmodels.api as sm\n",
    "from sklearn.metrics import r2_score"
   ]
  },
  {
   "cell_type": "markdown",
   "id": "6992aa0e",
   "metadata": {},
   "source": [
    "# Define a path for import and export\n",
    "## Don't forget to double slash"
   ]
  },
  {
   "cell_type": "code",
   "execution_count": null,
   "id": "0c4a7da1",
   "metadata": {},
   "outputs": [],
   "source": [
    "path = '/Users/admin/fin427/module2/excelSheets/'"
   ]
  },
  {
   "cell_type": "markdown",
   "id": "00248bb9",
   "metadata": {},
   "source": [
    "# Import monthly returns for individual S&P 400 stocks"
   ]
  },
  {
   "cell_type": "code",
   "execution_count": null,
   "id": "15529cf5",
   "metadata": {},
   "outputs": [],
   "source": [
    "df_stockret = pd.read_excel(path + 'Excel02 S&P 400 historical returns 20221231.xlsx', sheet_name='mth')\n",
    "print(df_stockret.head())\n",
    "print(df_stockret.columns)                            "
   ]
  },
  {
   "cell_type": "markdown",
   "id": "7762a085",
   "metadata": {},
   "source": [
    "# Import monthly returns on the S&P 400 index"
   ]
  },
  {
   "cell_type": "code",
   "execution_count": null,
   "id": "145ab4da",
   "metadata": {},
   "outputs": [],
   "source": [
    "df_indexret = pd.read_excel(path + 'Excel02 S&P 400 Returns 20221230.xlsx', sheet_name='Mth')\n",
    "df_indexret['MthRet'] = df_indexret['RetInd'].pct_change()\n",
    "print(df_indexret.head())\n",
    "print(df_indexret.columns)"
   ]
  },
  {
   "cell_type": "markdown",
   "id": "57d78c80",
   "metadata": {},
   "source": [
    "# Import monthly Fama and French factors"
   ]
  },
  {
   "cell_type": "code",
   "execution_count": null,
   "id": "d7a248a5",
   "metadata": {},
   "outputs": [],
   "source": [
    "df_ff = pd.read_excel(path + 'Excel02 Fama and French 20230114.xlsx', sheet_name='Mth3')\n",
    "print(df_ff.head())\n",
    "print(df_ff.columns)"
   ]
  },
  {
   "cell_type": "markdown",
   "id": "b6a9240e",
   "metadata": {},
   "source": [
    "# Combine stock return data with index return data and Fama-French data"
   ]
  },
  {
   "cell_type": "code",
   "execution_count": null,
   "id": "91fd5673",
   "metadata": {},
   "outputs": [],
   "source": [
    "df_combret1 = pd.merge(df_stockret, df_indexret, left_on='MthEnd', right_on='MthEnd')\n",
    "df_combret2 = pd.merge(df_combret1, df_ff, left_on='MthEnd', right_on='MthEnd')\n",
    "df_combret2 = df_combret2.dropna()"
   ]
  },
  {
   "cell_type": "markdown",
   "id": "50e1ab17",
   "metadata": {},
   "source": [
    "# Compute excess returns"
   ]
  },
  {
   "cell_type": "code",
   "execution_count": null,
   "id": "083a4073",
   "metadata": {},
   "outputs": [],
   "source": [
    "df_combret2['StockretRf'] = df_combret2['RET'] - df_combret2['Rf']\n",
    "df_combret2['IndexretRf'] = df_combret2['MthRet'] - df_combret2['Rf']"
   ]
  },
  {
   "cell_type": "markdown",
   "id": "99bbb543",
   "metadata": {},
   "source": [
    "# Remove a company with only two observations"
   ]
  },
  {
   "cell_type": "code",
   "execution_count": null,
   "id": "837b8e7b",
   "metadata": {},
   "outputs": [],
   "source": [
    "df_combret3 = df_combret2.loc[df_combret2['CUSIP'] != '55919410']\n",
    "print(df_combret3.head())\n",
    "print(df_combret3.columns)"
   ]
  },
  {
   "cell_type": "markdown",
   "id": "70100923",
   "metadata": {},
   "source": [
    "# Example regression for one company - NVIDIA\n",
    "# Selecting rows based on condition"
   ]
  },
  {
   "cell_type": "code",
   "execution_count": null,
   "id": "65398344",
   "metadata": {},
   "outputs": [],
   "source": [
    "TestCUSIPS2 = ['67066G10']\n",
    "df_combret4 = df_combret3[df_combret3['CUSIP'].isin(TestCUSIPS2)]\n",
    "print(df_combret4.head())\n",
    "print(df_combret4.columns)"
   ]
  },
  {
   "cell_type": "code",
   "execution_count": null,
   "id": "e9ce450c",
   "metadata": {},
   "outputs": [],
   "source": [
    "y = df_combret4['StockretRf']\n",
    "x = df_combret4[['IndexretRf']]\n",
    "x = sm.add_constant(x)\n",
    "model = sm.OLS(y, x).fit()\n",
    "predictions = model.predict(x)\n",
    "print_model = model.summary()\n",
    "print(print_model)\n",
    "print(predictions)"
   ]
  },
  {
   "cell_type": "markdown",
   "id": "ccecb8ce",
   "metadata": {},
   "source": [
    "# Regression using polyfit"
   ]
  },
  {
   "cell_type": "code",
   "execution_count": null,
   "id": "c8a2feb3",
   "metadata": {},
   "outputs": [],
   "source": [
    "x1 = df_combret4.IndexretRf\n",
    "y1 = df_combret4.StockretRf\n",
    "m, b = np.polyfit(x1, y1, 1)\n",
    "print(\"Slope: \" + str(round(m, 3)))\n",
    "print(\"Coefficient: \" + str(round(b, 6)))"
   ]
  },
  {
   "cell_type": "code",
   "execution_count": null,
   "id": "8e75a354",
   "metadata": {},
   "outputs": [],
   "source": [
    "plt.plot(x1, y1, 'o')\n",
    "plt.plot(x, m * x + b, 'red', label='NVIDIA excess returns = {:.4f} + {:.2f} x S&P 400 MidCap excess returns'.format(b, m))\n",
    "plt.legend(loc='upper left', fontsize=6)\n",
    "plt.xlabel('S&P MidCap 400 returns')\n",
    "plt.ylabel('NVIDIA excess returns')\n",
    "plt.xlim([-0.25, 0.25])\n",
    "plt.ylim([-0.40, 0.90])\n",
    "plt.savefig(path + 'Chart02 NVIDIA beta.jpg')\n",
    "plt.show()"
   ]
  },
  {
   "cell_type": "markdown",
   "id": "3e228754",
   "metadata": {},
   "source": [
    "# Example regression for 3 companies - NVIDIA, Qualcomm and AMD"
   ]
  },
  {
   "cell_type": "code",
   "execution_count": null,
   "id": "da10dbc4",
   "metadata": {},
   "outputs": [],
   "source": [
    "TestCUSIPS3 = ['67066G10', '74752510', '00790310']\n",
    "df_combret5 = df_combret3[df_combret3['CUSIP'].isin(TestCUSIPS3)]"
   ]
  },
  {
   "cell_type": "code",
   "execution_count": null,
   "id": "e1f3b244",
   "metadata": {},
   "outputs": [],
   "source": [
    "def regress(df_combret5, yvar, xvars):\n",
    "    y3 = df_combret5['StockretRf']\n",
    "    x3 = df_combret5['IndexretRf']\n",
    "    x3 = sm.add_constant(x3)\n",
    "    model3 = sm.OLS(y3, x3).fit()\n",
    "    predictions3 = model3.predict(x3)\n",
    "    r2 = r2_score(y3, predictions3)\n",
    "    return model3.params, r2"
   ]
  },
  {
   "cell_type": "code",
   "execution_count": null,
   "id": "91a3fe11",
   "metadata": {},
   "outputs": [],
   "source": [
    "output3 = df_combret5.groupby('CUSIP').apply(regress, yvar='y3', xvars=['x3'])\n",
    "print(output3)"
   ]
  },
  {
   "cell_type": "markdown",
   "id": "aa87484b",
   "metadata": {},
   "source": [
    "# Running the regression on all companies"
   ]
  },
  {
   "cell_type": "code",
   "execution_count": null,
   "id": "8646389b",
   "metadata": {},
   "outputs": [],
   "source": [
    "def regressall(df_combret3, yvar, xvars):\n",
    "    yall = df_combret3['StockretRf']\n",
    "    xall = df_combret3['IndexretRf']\n",
    "    xall = sm.add_constant(xall)\n",
    "    modelall = sm.OLS(yall, xall).fit()\n",
    "    predictionsall = modelall.predict(xall)\n",
    "    r2all = r2_score(yall, predictionsall)\n",
    "    return modelall.params"
   ]
  },
  {
   "cell_type": "code",
   "execution_count": null,
   "id": "c9a50a09",
   "metadata": {},
   "outputs": [],
   "source": [
    "output = df_combret3.groupby('CUSIP').apply(regressall, yvar='yall', xvars=['xall'])\n",
    "print(output)"
   ]
  },
  {
   "cell_type": "markdown",
   "id": "3edb6921",
   "metadata": {},
   "source": [
    "# Regression to show the inverse relationship between estimates of alpha and index exposure"
   ]
  },
  {
   "cell_type": "code",
   "execution_count": null,
   "id": "63a689ea",
   "metadata": {},
   "outputs": [],
   "source": [
    "x4 = output.IndexretRf\n",
    "y4 = output.const\n",
    "m, b = np.polyfit(x4, y4, 1)\n",
    "print(\"Slope: \" + str(round(m, 3)))\n",
    "print(\"Coefficient: \" + str(round(b, 6)))"
   ]
  },
  {
   "cell_type": "code",
   "execution_count": null,
   "id": "dfc35e4c",
   "metadata": {},
   "outputs": [],
   "source": [
    "plt.plot(x4, y4, 'o')\n",
    "plt.plot(x4, m * x4 + b, 'red', label='Alpha = {:.4f} + {:.4f} x slope on midcap excess returns'.format(b, m))\n",
    "plt.legend(loc='upper left', fontsize=10)\n",
    "plt.xlabel('Slope on midcap excess returns')\n",
    "plt.ylabel('Alpha')\n",
    "plt.xlim([-8.5, 8.5])\n",
    "plt.ylim([-0.35, 0.35])\n",
    "plt.savefig(path + 'Chart02 Alpha and beta.jpg')\n",
    "plt.show()"
   ]
  },
  {
   "cell_type": "markdown",
   "id": "34f33877",
   "metadata": {},
   "source": [
    "# Export results to Excel"
   ]
  },
  {
   "cell_type": "code",
   "execution_count": null,
   "id": "fdeb012e",
   "metadata": {},
   "outputs": [],
   "source": [
    "with pd.ExcelWriter(path + 'Excel02 Beta estimates 20230114.xlsx') as writer:\n",
    "    output3.to_excel(writer, sheet_name='Coefficients 3')\n",
    "    output.to_excel(writer, sheet_name='Coefficients All')"
   ]
  }
 ],
 "metadata": {
  "kernelspec": {
   "display_name": "Python 3 (ipykernel)",
   "language": "python",
   "name": "python3"
  },
  "language_info": {
   "codemirror_mode": {
    "name": "ipython",
    "version": 3
   },
   "file_extension": ".py",
   "mimetype": "text/x-python",
   "name": "python",
   "nbconvert_exporter": "python",
   "pygments_lexer": "ipython3",
   "version": "3.9.13"
  }
 },
 "nbformat": 4,
 "nbformat_minor": 5
}
